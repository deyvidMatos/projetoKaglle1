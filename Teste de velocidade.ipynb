{
 "cells": [
  {
   "cell_type": "markdown",
   "id": "2ab42c6a",
   "metadata": {},
   "source": [
    "# <center>Diferença de Processamento dos arquivos Apache Parquet e CSV</center>\n",
    "---\n",
    " **O que o arquivos Apache Parquet e CSV**\n",
    "> - **CSV**:  O formato CSV tem estrutura semelhante atabela, com colunas e linhas. A primeira linha corresponde ao cabeçalho e com separação interna feita por virgula(,) ponto e virgula (;) ou TAB (caractere vazio);\n",
    "> - **Apache Parquet**: Ele foi desenvolvido com armazenamento de dados baseado em coluna com objetivo de aguentar compressão e codificação de grandes quantidades de dados.\n",
    "---\n",
    "**Como arquivo do tipo Apache Parquet tem mais eficiencia de execução do que CSV ?**\n",
    "\n",
    "> Devido a sua diferença de estrutura faz com que a leitura do Apache Parquet seja mais eficiente pois ele tem estrutura colunar que aguenta compactação o que melhora o desempenho com grandes fontes de dados."
   ]
  },
  {
   "cell_type": "markdown",
   "id": "1f2afa2d",
   "metadata": {},
   "source": [
    "### Importação da biblioteca Timeit\n",
    "---\n",
    "> Essa biblioteca é responçavel pelo teste de desempenho, pois nela contem uma função capaz de contagem de tempo de execução."
   ]
  },
  {
   "cell_type": "code",
   "execution_count": 1,
   "id": "574e5023",
   "metadata": {},
   "outputs": [],
   "source": [
    "import timeit"
   ]
  },
  {
   "cell_type": "markdown",
   "id": "a6990395",
   "metadata": {},
   "source": [
    "## <center>Realização do teste</center>\n",
    "**Passos seguidos**\n",
    "\n",
    "> - Criação da variavel que tera o codigo que sera testado\n",
    ">    - Importação das biblioteca pandas; \n",
    ">    - Leitura do arquivo (*.parquet* e *.csv* respectivamente);\n",
    ">    - Impressão dos primeiros 5 linhas do arquivo.\n",
    "> - Teste e impreção do resultado\n",
    "\n",
    "Obs: Por conta do tamanho do arquivo o codigo so sera testado 10 vezes, é possivel ver no argumento *number*"
   ]
  },
  {
   "cell_type": "markdown",
   "id": "f45f5173",
   "metadata": {},
   "source": [
    "### Teste do Apache Parquet"
   ]
  },
  {
   "cell_type": "code",
   "execution_count": 2,
   "id": "10488321",
   "metadata": {},
   "outputs": [
    {
     "name": "stdout",
     "output_type": "stream",
     "text": [
      "3.4580556000000797\n"
     ]
    }
   ],
   "source": [
    "test_code = \"\"\"\n",
    "import pandas as pd\n",
    "dfParquet = pd.read_parquet('social_media_entertainment_data.parquet')\n",
    "dfParquet.head()\n",
    "\"\"\"\n",
    "\n",
    "if __name__ == \"__main__\":\n",
    "    timeParquet = timeit.timeit(test_code, number = 10)\n",
    "    print(timeParquet)"
   ]
  },
  {
   "cell_type": "markdown",
   "id": "36abe208",
   "metadata": {},
   "source": [
    "### Teste do CSV"
   ]
  },
  {
   "cell_type": "code",
   "execution_count": 3,
   "id": "7de2b72a",
   "metadata": {},
   "outputs": [
    {
     "name": "stdout",
     "output_type": "stream",
     "text": [
      "14.142988499999774\n"
     ]
    }
   ],
   "source": [
    "test_code = \"\"\"\n",
    "import pandas as pd\n",
    "dfCSV = pd.read_csv('social_media_entertainment_data.csv')\n",
    "dfCSV.head()\n",
    "\"\"\"\n",
    "\n",
    "if __name__ == \"__main__\":\n",
    "    timeCsv = timeit.timeit(test_code, number = 10)\n",
    "    print(timeCsv)"
   ]
  },
  {
   "cell_type": "markdown",
   "id": "689e4872",
   "metadata": {},
   "source": [
    "## <center>Variação percentual dos testes</center>\n",
    "---\n",
    "### Formula\n",
    ">\n",
    "> $Variação\\:Percentual=$\n",
    "> $\\dfrac{(Valor\\:maior - Valor\\:menor)}{Valor\\:menor}\\,x\\, 100$"
   ]
  },
  {
   "cell_type": "markdown",
   "id": "88a58e75",
   "metadata": {},
   "source": [
    "### Calculo\n",
    "> $Variação\\:Percentual=$\n",
    "> $\\dfrac{(Valor\\:maior - Valor\\:menor)}{Valor\\:menor}\\,x\\, 100$\n",
    ">\n",
    ">\n",
    "> $Variação\\:Percentual=$\n",
    "> $\\dfrac{14,14... - 3,45...}{3,45...}\\,x\\, 100$\n",
    ">\n",
    ">\n",
    "> $Variação\\:Percentual=$\n",
    "> $\\dfrac{10,68...}{3,45...}\\,x\\, 100$\n",
    ">\n",
    ">\n",
    "> $Variação\\:Percentual=$\n",
    "> $3,08...\\,x\\, 100$\n",
    ">\n",
    ">\n",
    "> $Variação\\:Percentual=$\n",
    "> $308.99\\%$"
   ]
  },
  {
   "cell_type": "code",
   "execution_count": 4,
   "id": "be24b42f",
   "metadata": {},
   "outputs": [
    {
     "name": "stdout",
     "output_type": "stream",
     "text": [
      "Diferença percentual: 308.99%\n"
     ]
    }
   ],
   "source": [
    "diferenca = (((timeCsv - timeParquet)/timeParquet)*100)\n",
    "print(f'Diferença percentual:{diferenca: .2f}%')"
   ]
  },
  {
   "cell_type": "markdown",
   "id": "fb51792f",
   "metadata": {},
   "source": [
    "# <center>Conclusão</center>\n",
    "\n",
    "---\n",
    "> O teste de desempenho realizado demonstrou uma diferença significativa no tempo de processamento entre os arquivos no formato Apache Parquet e CSV. Essa diferença é atribuída à estrutura colunar do Apache Parquet, que permite melhor compressão e codificação dos dados.\n",
    ">\n",
    ">Enquanto o CSV organiza os dados em linhas completas, o que pode levar à leitura de informações desnecessárias, o Apache Parquet trabalha com armazenamento baseado em colunas. Isso possibilita a leitura apenas das colunas relevantes para a análise, otimizando o processamento e reduzindo o tempo de execução.\n",
    ">\n",
    ">A variação percentual de desempenho calculada (308,99%) evidencia como o Apache Parquet é significativamente mais eficiente para lidar com grandes volumes de dados em comparação ao CSV. Essa eficiência torna o Parquet uma escolha ideal em contextos onde a velocidade e a economia de recursos computacionais são fatores críticos, como em análises de dados em larga escala."
   ]
  }
 ],
 "metadata": {
  "kernelspec": {
   "display_name": "Python 3 (ipykernel)",
   "language": "python",
   "name": "python3"
  },
  "language_info": {
   "codemirror_mode": {
    "name": "ipython",
    "version": 3
   },
   "file_extension": ".py",
   "mimetype": "text/x-python",
   "name": "python",
   "nbconvert_exporter": "python",
   "pygments_lexer": "ipython3",
   "version": "3.11.4"
  }
 },
 "nbformat": 4,
 "nbformat_minor": 5
}
