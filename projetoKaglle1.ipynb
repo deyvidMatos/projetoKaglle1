{
 "cells": [
  {
   "cell_type": "code",
   "execution_count": 16,
   "id": "8d0c7817",
   "metadata": {},
   "outputs": [],
   "source": [
    "import pandas as pd\n",
    "import matplotlib.pyplot as plt\n",
    "import pyarrow as pa\n",
    "import pyarrow.parquet as pq"
   ]
  },
  {
   "cell_type": "code",
   "execution_count": 17,
   "id": "c5558260",
   "metadata": {},
   "outputs": [],
   "source": [
    "import timeit"
   ]
  },
  {
   "cell_type": "code",
   "execution_count": 22,
   "id": "0d7e7187",
   "metadata": {},
   "outputs": [],
   "source": [
    "dfParquet = pd.read_parquet('social_media_entertainment_data.parquet')"
   ]
  },
  {
   "cell_type": "code",
   "execution_count": 21,
   "id": "d1a13643",
   "metadata": {},
   "outputs": [],
   "source": [
    "df = pd.read_csv('social_media_entertainment_data.csv')"
   ]
  },
  {
   "cell_type": "code",
   "execution_count": 32,
   "id": "8b6d7a73",
   "metadata": {},
   "outputs": [
    {
     "name": "stdout",
     "output_type": "stream",
     "text": [
      "2.8798494000002393\n"
     ]
    }
   ],
   "source": [
    "test_code = \"\"\"\n",
    "import pandas as pd\n",
    "import matplotlib.pyplot as plt\n",
    "dfParquet = pd.read_parquet('social_media_entertainment_data.parquet')\n",
    "dfParquet.head()\n",
    "\"\"\"\n",
    "\n",
    "if __name__ == \"__main__\":\n",
    "    time = timeit.timeit(test_code, number = 10)\n",
    "    print(time)"
   ]
  },
  {
   "cell_type": "code",
   "execution_count": 33,
   "id": "ee36854c",
   "metadata": {},
   "outputs": [
    {
     "name": "stdout",
     "output_type": "stream",
     "text": [
      "13.45331060000035\n"
     ]
    }
   ],
   "source": [
    "test_code = \"\"\"\n",
    "import pandas as pd\n",
    "import matplotlib.pyplot as plt\n",
    "dfParquet = pd.read_csv('social_media_entertainment_data.csv')\n",
    "dfParquet.head()\n",
    "\"\"\"\n",
    "\n",
    "if __name__ == \"__main__\":\n",
    "    time = timeit.timeit(test_code, number = 10)\n",
    "    print(time)"
   ]
  },
  {
   "cell_type": "code",
   "execution_count": 6,
   "id": "72303dc0",
   "metadata": {},
   "outputs": [],
   "source": [
    "df = pd.read_csv('social_media_entertainment_data.csv')"
   ]
  },
  {
   "cell_type": "code",
   "execution_count": 7,
   "id": "30011940",
   "metadata": {},
   "outputs": [],
   "source": [
    "table = pa.Table.from_pandas(df)"
   ]
  },
  {
   "cell_type": "code",
   "execution_count": 8,
   "id": "39d850c0",
   "metadata": {},
   "outputs": [],
   "source": [
    "pq.write_table(table, 'social_media_entertainment_data.parquet')"
   ]
  },
  {
   "cell_type": "code",
   "execution_count": 9,
   "id": "b2c5e592",
   "metadata": {},
   "outputs": [],
   "source": [
    "dfParquet = pd.read_parquet('social_media_entertainment_data.parquet')"
   ]
  },
  {
   "cell_type": "code",
   "execution_count": 10,
   "id": "e2391bf2",
   "metadata": {},
   "outputs": [
    {
     "data": {
      "text/html": [
       "<div>\n",
       "<style scoped>\n",
       "    .dataframe tbody tr th:only-of-type {\n",
       "        vertical-align: middle;\n",
       "    }\n",
       "\n",
       "    .dataframe tbody tr th {\n",
       "        vertical-align: top;\n",
       "    }\n",
       "\n",
       "    .dataframe thead th {\n",
       "        text-align: right;\n",
       "    }\n",
       "</style>\n",
       "<table border=\"1\" class=\"dataframe\">\n",
       "  <thead>\n",
       "    <tr style=\"text-align: right;\">\n",
       "      <th></th>\n",
       "      <th>User ID</th>\n",
       "      <th>Age</th>\n",
       "      <th>Gender</th>\n",
       "      <th>Country</th>\n",
       "      <th>Daily Social Media Time (hrs)</th>\n",
       "      <th>Daily Entertainment Time (hrs)</th>\n",
       "      <th>Social Media Platforms Used</th>\n",
       "      <th>Primary Platform</th>\n",
       "      <th>Daily Messaging Time (hrs)</th>\n",
       "      <th>Daily Video Content Time (hrs)</th>\n",
       "      <th>...</th>\n",
       "      <th>Ad Interaction Count</th>\n",
       "      <th>Time on Educational Platforms (hrs)</th>\n",
       "      <th>Parental Status</th>\n",
       "      <th>Tech Savviness Level (scale 1-10)</th>\n",
       "      <th>Preferred Device for Entertainment</th>\n",
       "      <th>Data Plan Used</th>\n",
       "      <th>Digital Well-being Awareness</th>\n",
       "      <th>Sleep Quality (scale 1-10)</th>\n",
       "      <th>Social Isolation Feeling (scale 1-10)</th>\n",
       "      <th>Monthly Expenditure on Entertainment (USD)</th>\n",
       "    </tr>\n",
       "  </thead>\n",
       "  <tbody>\n",
       "    <tr>\n",
       "      <th>0</th>\n",
       "      <td>1</td>\n",
       "      <td>32</td>\n",
       "      <td>Other</td>\n",
       "      <td>Germany</td>\n",
       "      <td>4.35</td>\n",
       "      <td>4.08</td>\n",
       "      <td>5</td>\n",
       "      <td>TikTok</td>\n",
       "      <td>0.35</td>\n",
       "      <td>5.43</td>\n",
       "      <td>...</td>\n",
       "      <td>20</td>\n",
       "      <td>4.11</td>\n",
       "      <td>Yes</td>\n",
       "      <td>9</td>\n",
       "      <td>Tablet</td>\n",
       "      <td>50GB</td>\n",
       "      <td>Moderate</td>\n",
       "      <td>7</td>\n",
       "      <td>8</td>\n",
       "      <td>33.04</td>\n",
       "    </tr>\n",
       "    <tr>\n",
       "      <th>1</th>\n",
       "      <td>2</td>\n",
       "      <td>62</td>\n",
       "      <td>Other</td>\n",
       "      <td>India</td>\n",
       "      <td>4.96</td>\n",
       "      <td>4.21</td>\n",
       "      <td>2</td>\n",
       "      <td>YouTube</td>\n",
       "      <td>2.55</td>\n",
       "      <td>4.22</td>\n",
       "      <td>...</td>\n",
       "      <td>26</td>\n",
       "      <td>4.59</td>\n",
       "      <td>Yes</td>\n",
       "      <td>9</td>\n",
       "      <td>PC</td>\n",
       "      <td>10GB</td>\n",
       "      <td>Low</td>\n",
       "      <td>8</td>\n",
       "      <td>2</td>\n",
       "      <td>497.78</td>\n",
       "    </tr>\n",
       "    <tr>\n",
       "      <th>2</th>\n",
       "      <td>3</td>\n",
       "      <td>51</td>\n",
       "      <td>Female</td>\n",
       "      <td>USA</td>\n",
       "      <td>6.78</td>\n",
       "      <td>1.77</td>\n",
       "      <td>4</td>\n",
       "      <td>Facebook</td>\n",
       "      <td>2.09</td>\n",
       "      <td>1.09</td>\n",
       "      <td>...</td>\n",
       "      <td>47</td>\n",
       "      <td>0.66</td>\n",
       "      <td>Yes</td>\n",
       "      <td>9</td>\n",
       "      <td>Tablet</td>\n",
       "      <td>10GB</td>\n",
       "      <td>High</td>\n",
       "      <td>5</td>\n",
       "      <td>3</td>\n",
       "      <td>71.72</td>\n",
       "    </tr>\n",
       "    <tr>\n",
       "      <th>3</th>\n",
       "      <td>4</td>\n",
       "      <td>44</td>\n",
       "      <td>Female</td>\n",
       "      <td>India</td>\n",
       "      <td>5.06</td>\n",
       "      <td>9.21</td>\n",
       "      <td>3</td>\n",
       "      <td>YouTube</td>\n",
       "      <td>3.69</td>\n",
       "      <td>4.80</td>\n",
       "      <td>...</td>\n",
       "      <td>22</td>\n",
       "      <td>3.44</td>\n",
       "      <td>Yes</td>\n",
       "      <td>7</td>\n",
       "      <td>Tablet</td>\n",
       "      <td>10GB</td>\n",
       "      <td>Low</td>\n",
       "      <td>9</td>\n",
       "      <td>9</td>\n",
       "      <td>129.62</td>\n",
       "    </tr>\n",
       "    <tr>\n",
       "      <th>4</th>\n",
       "      <td>5</td>\n",
       "      <td>21</td>\n",
       "      <td>Other</td>\n",
       "      <td>Germany</td>\n",
       "      <td>2.57</td>\n",
       "      <td>1.30</td>\n",
       "      <td>4</td>\n",
       "      <td>TikTok</td>\n",
       "      <td>3.97</td>\n",
       "      <td>2.74</td>\n",
       "      <td>...</td>\n",
       "      <td>42</td>\n",
       "      <td>4.14</td>\n",
       "      <td>Yes</td>\n",
       "      <td>7</td>\n",
       "      <td>Smart TV</td>\n",
       "      <td>Unlimited</td>\n",
       "      <td>Low</td>\n",
       "      <td>5</td>\n",
       "      <td>9</td>\n",
       "      <td>35.90</td>\n",
       "    </tr>\n",
       "  </tbody>\n",
       "</table>\n",
       "<p>5 rows × 40 columns</p>\n",
       "</div>"
      ],
      "text/plain": [
       "   User ID  Age  Gender  Country  Daily Social Media Time (hrs)  \\\n",
       "0        1   32   Other  Germany                           4.35   \n",
       "1        2   62   Other    India                           4.96   \n",
       "2        3   51  Female      USA                           6.78   \n",
       "3        4   44  Female    India                           5.06   \n",
       "4        5   21   Other  Germany                           2.57   \n",
       "\n",
       "   Daily Entertainment Time (hrs)  Social Media Platforms Used  \\\n",
       "0                            4.08                            5   \n",
       "1                            4.21                            2   \n",
       "2                            1.77                            4   \n",
       "3                            9.21                            3   \n",
       "4                            1.30                            4   \n",
       "\n",
       "  Primary Platform  Daily Messaging Time (hrs)  \\\n",
       "0           TikTok                        0.35   \n",
       "1          YouTube                        2.55   \n",
       "2         Facebook                        2.09   \n",
       "3          YouTube                        3.69   \n",
       "4           TikTok                        3.97   \n",
       "\n",
       "   Daily Video Content Time (hrs)  ...  Ad Interaction Count  \\\n",
       "0                            5.43  ...                    20   \n",
       "1                            4.22  ...                    26   \n",
       "2                            1.09  ...                    47   \n",
       "3                            4.80  ...                    22   \n",
       "4                            2.74  ...                    42   \n",
       "\n",
       "  Time on Educational Platforms (hrs) Parental Status  \\\n",
       "0                                4.11             Yes   \n",
       "1                                4.59             Yes   \n",
       "2                                0.66             Yes   \n",
       "3                                3.44             Yes   \n",
       "4                                4.14             Yes   \n",
       "\n",
       "   Tech Savviness Level (scale 1-10) Preferred Device for Entertainment  \\\n",
       "0                                  9                             Tablet   \n",
       "1                                  9                                 PC   \n",
       "2                                  9                             Tablet   \n",
       "3                                  7                             Tablet   \n",
       "4                                  7                           Smart TV   \n",
       "\n",
       "   Data Plan Used  Digital Well-being Awareness  Sleep Quality (scale 1-10)  \\\n",
       "0            50GB                      Moderate                           7   \n",
       "1            10GB                           Low                           8   \n",
       "2            10GB                          High                           5   \n",
       "3            10GB                           Low                           9   \n",
       "4       Unlimited                           Low                           5   \n",
       "\n",
       "   Social Isolation Feeling (scale 1-10)  \\\n",
       "0                                      8   \n",
       "1                                      2   \n",
       "2                                      3   \n",
       "3                                      9   \n",
       "4                                      9   \n",
       "\n",
       "   Monthly Expenditure on Entertainment (USD)  \n",
       "0                                       33.04  \n",
       "1                                      497.78  \n",
       "2                                       71.72  \n",
       "3                                      129.62  \n",
       "4                                       35.90  \n",
       "\n",
       "[5 rows x 40 columns]"
      ]
     },
     "execution_count": 10,
     "metadata": {},
     "output_type": "execute_result"
    }
   ],
   "source": [
    "dfParquet.head()"
   ]
  },
  {
   "cell_type": "code",
   "execution_count": 11,
   "id": "fc49755f",
   "metadata": {},
   "outputs": [
    {
     "data": {
      "text/plain": [
       "(300000, 40)"
      ]
     },
     "execution_count": 11,
     "metadata": {},
     "output_type": "execute_result"
    }
   ],
   "source": [
    "dfParquet.shape"
   ]
  }
 ],
 "metadata": {
  "kernelspec": {
   "display_name": "Python 3 (ipykernel)",
   "language": "python",
   "name": "python3"
  },
  "language_info": {
   "codemirror_mode": {
    "name": "ipython",
    "version": 3
   },
   "file_extension": ".py",
   "mimetype": "text/x-python",
   "name": "python",
   "nbconvert_exporter": "python",
   "pygments_lexer": "ipython3",
   "version": "3.11.4"
  }
 },
 "nbformat": 4,
 "nbformat_minor": 5
}
